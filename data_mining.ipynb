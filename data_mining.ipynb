{
 "cells": [
  {
   "cell_type": "code",
   "execution_count": 23,
   "metadata": {},
   "outputs": [
    {
     "ename": "ModuleNotFoundError",
     "evalue": "No module named 'keras'",
     "output_type": "error",
     "traceback": [
      "\u001b[0;31m---------------------------------------------------------------------------\u001b[0m",
      "\u001b[0;31mModuleNotFoundError\u001b[0m                       Traceback (most recent call last)",
      "\u001b[0;32m/var/folders/72/dnfxtvv143jfz_4_184lttrm0000gn/T/ipykernel_24501/3785759469.py\u001b[0m in \u001b[0;36m<module>\u001b[0;34m\u001b[0m\n\u001b[1;32m      3\u001b[0m \u001b[0;32mimport\u001b[0m \u001b[0mmatplotlib\u001b[0m\u001b[0;34m.\u001b[0m\u001b[0mpyplot\u001b[0m \u001b[0;32mas\u001b[0m \u001b[0mplt\u001b[0m\u001b[0;34m\u001b[0m\u001b[0;34m\u001b[0m\u001b[0m\n\u001b[1;32m      4\u001b[0m \u001b[0;32mimport\u001b[0m \u001b[0mseaborn\u001b[0m \u001b[0;32mas\u001b[0m \u001b[0msns\u001b[0m\u001b[0;34m\u001b[0m\u001b[0;34m\u001b[0m\u001b[0m\n\u001b[0;32m----> 5\u001b[0;31m \u001b[0;32mimport\u001b[0m \u001b[0mkeras\u001b[0m\u001b[0;34m\u001b[0m\u001b[0;34m\u001b[0m\u001b[0m\n\u001b[0m\u001b[1;32m      6\u001b[0m \u001b[0;32mfrom\u001b[0m \u001b[0msklearn\u001b[0m\u001b[0;34m.\u001b[0m\u001b[0mmodel_selection\u001b[0m \u001b[0;32mimport\u001b[0m \u001b[0mtrain_test_split\u001b[0m\u001b[0;34m\u001b[0m\u001b[0;34m\u001b[0m\u001b[0m\n\u001b[1;32m      7\u001b[0m \u001b[0;32mfrom\u001b[0m \u001b[0msklearn\u001b[0m\u001b[0;34m.\u001b[0m\u001b[0mlinear_model\u001b[0m \u001b[0;32mimport\u001b[0m \u001b[0mLogisticRegression\u001b[0m\u001b[0;34m\u001b[0m\u001b[0;34m\u001b[0m\u001b[0m\n",
      "\u001b[0;31mModuleNotFoundError\u001b[0m: No module named 'keras'"
     ]
    }
   ],
   "source": [
    "import numpy as np\n",
    "import pandas as pd\n",
    "import matplotlib.pyplot as plt\n",
    "import seaborn as sns\n",
    "from sklearn.model_selection import train_test_split\n",
    "from sklearn.linear_model import LogisticRegression\n",
    "pd.set_option('display.float_format', lambda x: '%.2f' % x)\n",
    "\n",
    "data = pd.read_csv(\"data/Melbourne.csv\")\n",
    "data = data.drop(columns= [\"Address\", \"Postcode\", \"CouncilArea\", \"Lattitude\", \"Longtitude\",\"YearBuilt\", \"Bedroom2\"])\n",
    "data.columns\n",
    "data = data[data.Price.notna()]\n",
    "data.describe()"
   ]
  },
  {
   "cell_type": "code",
   "execution_count": 3,
   "metadata": {},
   "outputs": [
    {
     "name": "stdout",
     "output_type": "stream",
     "text": [
      "-----------------------------------\n",
      "Missing values in columns\n",
      "-----------------------------------\n",
      "Suburb               0\n",
      "Rooms                0\n",
      "Type                 0\n",
      "Price                0\n",
      "Method               0\n",
      "SellerG              0\n",
      "Date                 0\n",
      "Distance             1\n",
      "Bathroom          6447\n",
      "Car               6824\n",
      "Landsize          9265\n",
      "BuildingArea     16591\n",
      "Regionname           3\n",
      "Propertycount        3\n",
      "dtype: int64\n",
      "-----------------------------------\n",
      "Sum of missing values: 39134\n"
     ]
    }
   ],
   "source": [
    "print(\"-\"*35)\n",
    "print(\"Missing values in columns\")\n",
    "print(\"-\"*35)\n",
    "print(data.isna().sum())\n",
    "print(\"-\"*35)\n",
    "print(\"Sum of missing values:\",data.isna().sum().sum())"
   ]
  },
  {
   "cell_type": "code",
   "execution_count": 4,
   "metadata": {},
   "outputs": [
    {
     "data": {
      "text/plain": [
       "<AxesSubplot:>"
      ]
     },
     "execution_count": 4,
     "metadata": {},
     "output_type": "execute_result"
    },
    {
     "data": {
      "image/png": "[encoded data removed]",
      "text/plain": [
       "<Figure size 432x288 with 1 Axes>"
      ]
     },
     "metadata": {
      "needs_background": "light"
     },
     "output_type": "display_data"
    }
   ],
   "source": [
    "data.Price.value_counts().plot.bar(rot=0)"
   ]
  },
  {
   "cell_type": "code",
   "execution_count": 5,
   "metadata": {},
   "outputs": [],
   "source": [
    "\n",
    "data.Date = pd.to_datetime(data.Date, format=\"%d/%m/%Y\")\n",
    "data[\"Quarter\"] = pd.PeriodIndex(data.Date, freq= \"Q\")\n",
    "mask = data.SellerG.map(data.SellerG.value_counts()) < 500\n",
    "data.SellerG = data.SellerG.mask(mask, \"Minor seller\")\n",
    "#filling missing values\n",
    "data.Distance.fillna(data.Distance.mean(), inplace=True)\n",
    "data.Bathroom.fillna(1, inplace=True)\n",
    "data.Car.fillna(data.Car.mean(), inplace=True)\n",
    "data.Propertycount.fillna(data.Propertycount.mean(), inplace=True)\n",
    "data = data[data.Regionname.notna()]"
   ]
  },
  {
   "cell_type": "code",
   "execution_count": 6,
   "metadata": {},
   "outputs": [
    {
     "data": {
      "text/plain": [
       "<AxesSubplot:xlabel='Propertycount'>"
      ]
     },
     "execution_count": 6,
     "metadata": {},
     "output_type": "execute_result"
    },
    {
     "data": {
      "image/png": "[encoded data removed]",
      "text/plain": [
       "<Figure size 576x288 with 1 Axes>"
      ]
     },
     "metadata": {
      "needs_background": "light"
     },
     "output_type": "display_data"
    }
   ],
   "source": [
    "#boxplots\n",
    "plt.figure(figsize = (8,4))\n",
    "sns.boxplot(x = data.Propertycount)"
   ]
  },
  {
   "cell_type": "code",
   "execution_count": 7,
   "metadata": {},
   "outputs": [],
   "source": [
    "#variable transformation\n",
    "data.loc[data.Rooms > 7, \"Rooms\"] = 7\n",
    "data.loc[data.Distance > 25.4, \"Distance\"] = 25.4\n",
    "data.loc[data.Bathroom > 3, \"Bathroom\"] = 3\n",
    "data.loc[data.Car > 3, \"Car\"] = 3\n",
    "data.loc[data.Propertycount > 19452, \"Propertycount\"] = 19452\n",
    "data.loc[data.Price < 800000, \"Price\"] = 0\n",
    "data.loc[data.Price >= 800000, \"Price\"] = 1"
   ]
  },
  {
   "cell_type": "code",
   "execution_count": 8,
   "metadata": {},
   "outputs": [
    {
     "data": {
      "text/plain": [
       "1.00    15625\n",
       "0.00    11619\n",
       "Name: Price, dtype: int64"
      ]
     },
     "execution_count": 8,
     "metadata": {},
     "output_type": "execute_result"
    }
   ],
   "source": [
    "data.Price.value_counts()"
   ]
  },
  {
   "cell_type": "code",
   "execution_count": 9,
   "metadata": {},
   "outputs": [
    {
     "name": "stdout",
     "output_type": "stream",
     "text": [
      "-----------------------------------\n",
      "Brakujące wartości w kolumnach\n",
      "-----------------------------------\n",
      "Suburb           0\n",
      "Rooms            0\n",
      "Type             0\n",
      "Price            0\n",
      "Method           0\n",
      "SellerG          0\n",
      "Distance         0\n",
      "Bathroom         0\n",
      "Car              0\n",
      "Regionname       0\n",
      "Propertycount    0\n",
      "Quarter          0\n",
      "dtype: int64\n",
      "-----------------------------------\n",
      "Suma brakujących wartości: 0\n"
     ]
    }
   ],
   "source": [
    "_data = data.copy()\n",
    "_data = _data.drop(columns=[\"Date\", \"BuildingArea\", \"Landsize\"])\n",
    "\n",
    "#create dummies\n",
    "for item in [\"Suburb\", \"Type\", \"SellerG\", \"Regionname\", \"Quarter\",\"Method\"]:\n",
    "    ip = _data[item].unique()\n",
    "    ip = sorted(ip)\n",
    "    ip_dict = dict(zip(ip, range(1,len(ip)+1)))\n",
    "    _data[item] = _data[item].map(ip_dict)\n",
    "\n",
    "print(\"-\"*35)\n",
    "print(\"Missing values in columns\")\n",
    "print(\"-\"*35)\n",
    "print(_data.isna().sum())\n",
    "print(\"-\"*35)\n",
    "print(\"Sum of missing values:\",_data.isna().sum().sum())"
   ]
  },
  {
   "cell_type": "code",
   "execution_count": 10,
   "metadata": {},
   "outputs": [],
   "source": [
    "X = _data.iloc[:, _data.columns != \"Price\"]\n",
    "Y = _data.Price"
   ]
  },
  {
   "cell_type": "code",
   "execution_count": 11,
   "metadata": {},
   "outputs": [],
   "source": [
    "X_obj = X\n",
    "X_no = _data.drop(['Suburb', 'Type', 'Price', 'Method', 'SellerG', 'Regionname', 'Quarter'], axis=1)"
   ]
  },
  {
   "cell_type": "code",
   "execution_count": 12,
   "metadata": {},
   "outputs": [
    {
     "name": "stdout",
     "output_type": "stream",
     "text": [
      "The Accuracy for Training Set is 74.0325117986366\n",
      "The Accuracy for Test Set is 74.56569610961586\n"
     ]
    }
   ],
   "source": [
    "from sklearn import preprocessing\n",
    "X_train_no, X_test_no, Y_train_no, Y_test_no = train_test_split(X_no, Y, test_size=0.3, random_state=5, stratify=Y)\n",
    "scaler = preprocessing.StandardScaler().fit(X_train_no)\n",
    "X_train_scaled_no = scaler.transform(X_train_no)\n",
    "model_no = LogisticRegression(C=1e30)\n",
    "model_no.fit(X_train_scaled_no, Y_train_no)\n",
    "train_acc = model_no.score(X_train_scaled_no, Y_train_no)\n",
    "print(\"The Accuracy for Training Set is {}\".format(train_acc*100))\n",
    "from sklearn.metrics import accuracy_score\n",
    "X_test_scaled_no = scaler.transform(X_test_no)\n",
    "y_pred_no = model_no.predict(X_test_scaled_no)\n",
    "test_acc = accuracy_score(Y_test_no, y_pred_no)\n",
    "print(\"The Accuracy for Test Set is {}\".format(test_acc*100))"
   ]
  },
  {
   "cell_type": "code",
   "execution_count": 13,
   "metadata": {},
   "outputs": [
    {
     "name": "stdout",
     "output_type": "stream",
     "text": [
      "The Accuracy for Training Set is 78.18038804404824\n",
      "              precision    recall  f1-score   support\n",
      "\n",
      "         0.0       0.77      0.70      0.73      8133\n",
      "         1.0       0.79      0.84      0.82     10937\n",
      "\n",
      "    accuracy                           0.78     19070\n",
      "   macro avg       0.78      0.77      0.77     19070\n",
      "weighted avg       0.78      0.78      0.78     19070\n",
      "\n",
      "The Accuracy for Test Set is 78.3337411304135\n"
     ]
    }
   ],
   "source": [
    "from sklearn import preprocessing\n",
    "from sklearn.metrics import classification_report, confusion_matrix\n",
    "X_train, X_test, Y_train, Y_test = train_test_split(X, Y, test_size=0.3, random_state=5, stratify=Y)\n",
    "scaler = preprocessing.StandardScaler().fit(X_train)\n",
    "X_train_scaled = scaler.transform(X_train)\n",
    "model = LogisticRegression(C=1e30)\n",
    "model.fit(X_train_scaled, Y_train)\n",
    "train_acc = model.score(X_train_scaled, Y_train)\n",
    "y_pred = model.predict(X_train_scaled)\n",
    "print(\"The Accuracy for Training Set is {}\".format(train_acc*100))\n",
    "print(classification_report(Y_train, y_pred))\n",
    "# print(confusion_matrix(Y_train, y_pred))\n",
    "from sklearn.metrics import accuracy_score\n",
    "X_test_scaled = scaler.transform(X_test)\n",
    "y_pred = model.predict(X_test_scaled)\n",
    "test_acc = accuracy_score(Y_test, y_pred)\n",
    "print(\"The Accuracy for Test Set is {}\".format(test_acc*100))\n",
    "# print(classification_report(Y_test, y_pred))\n",
    "# print(confusion_matrix(Y_test, y_pred))"
   ]
  },
  {
   "cell_type": "code",
   "execution_count": 14,
   "metadata": {},
   "outputs": [
    {
     "data": {
      "text/plain": [
       "<AxesSubplot:>"
      ]
     },
     "execution_count": 14,
     "metadata": {},
     "output_type": "execute_result"
    },
    {
     "data": {
      "image/png": "[encoded data removed]",
      "text/plain": [
       "<Figure size 432x288 with 2 Axes>"
      ]
     },
     "metadata": {
      "needs_background": "light"
     },
     "output_type": "display_data"
    }
   ],
   "source": [
    "X_no111 = _data.drop(['Suburb', 'Type', 'Method', 'SellerG', 'Regionname', 'Quarter'], axis=1)\n",
    "%matplotlib inline\n",
    "sns.heatmap(X_no111.corr(), annot=X_no111.corr())"
   ]
  },
  {
   "cell_type": "code",
   "execution_count": 15,
   "metadata": {},
   "outputs": [
    {
     "data": {
      "image/png": "[encoded data removed]",
      "text/plain": [
       "<Figure size 432x288 with 1 Axes>"
      ]
     },
     "metadata": {
      "needs_background": "light"
     },
     "output_type": "display_data"
    }
   ],
   "source": [
    "import sklearn.metrics as metrics\n",
    "# calculate the fpr and tpr for all thresholds of the classification\n",
    "probs = model_no.predict_proba(X_test_scaled_no)\n",
    "preds = probs[:,1]\n",
    "fpr, tpr, threshold = metrics.roc_curve(Y_test_no, preds)\n",
    "roc_auc = metrics.auc(fpr, tpr)\n",
    "\n",
    "# method I: plt\n",
    "import matplotlib.pyplot as plt\n",
    "plt.title('Receiver Operating Characteristic')\n",
    "plt.plot(fpr, tpr, 'b', label = 'AUC = %0.2f' % roc_auc)\n",
    "plt.legend(loc = 'lower right')\n",
    "plt.plot([0, 1], [0, 1],'r--')\n",
    "plt.xlim([0, 1])\n",
    "plt.ylim([0, 1])\n",
    "plt.ylabel('True Positive Rate')\n",
    "plt.xlabel('False Positive Rate')\n",
    "plt.show()"
   ]
  },
  {
   "cell_type": "code",
   "execution_count": 16,
   "metadata": {},
   "outputs": [
    {
     "name": "stdout",
     "output_type": "stream",
     "text": [
      "The Accuracy for Training Set is 98.77294179339276\n",
      "              precision    recall  f1-score   support\n",
      "\n",
      "         0.0       0.97      1.00      0.99      8133\n",
      "         1.0       1.00      0.98      0.99     10937\n",
      "\n",
      "    accuracy                           0.99     19070\n",
      "   macro avg       0.99      0.99      0.99     19070\n",
      "weighted avg       0.99      0.99      0.99     19070\n",
      "\n",
      "The Accuracy for Test Set is 84.30389038414485\n",
      "[[2849  637]\n",
      " [ 646 4042]]\n"
     ]
    }
   ],
   "source": [
    "from sklearn.tree import DecisionTreeClassifier\n",
    "tree_new = DecisionTreeClassifier()\n",
    "tree_new.fit(X_train_scaled, Y_train)\n",
    "train_acc = tree_new.score(X_train_scaled, Y_train)\n",
    "y_pred = tree_new.predict(X_train_scaled)\n",
    "print(\"The Accuracy for Training Set is {}\".format(train_acc*100))\n",
    "print(classification_report(Y_train, y_pred))\n",
    "\n",
    "from sklearn.metrics import accuracy_score\n",
    "X_test_scaled = scaler.transform(X_test)\n",
    "y_pred = tree_new.predict(X_test_scaled)\n",
    "test_acc = accuracy_score(Y_test, y_pred)\n",
    "print(\"The Accuracy for Test Set is {}\".format(test_acc*100))\n",
    "print(confusion_matrix(Y_test, y_pred))"
   ]
  },
  {
   "cell_type": "code",
   "execution_count": 17,
   "metadata": {},
   "outputs": [
    {
     "name": "stdout",
     "output_type": "stream",
     "text": [
      "The Accuracy for Training Set is 89.83744100681699\n",
      "              precision    recall  f1-score   support\n",
      "\n",
      "         0.0       0.86      0.92      0.88      8133\n",
      "         1.0       0.93      0.89      0.91     10937\n",
      "\n",
      "    accuracy                           0.90     19070\n",
      "   macro avg       0.89      0.90      0.90     19070\n",
      "weighted avg       0.90      0.90      0.90     19070\n",
      "\n",
      "[[7450  683]\n",
      " [1255 9682]]\n",
      "The Accuracy for Test Set is 83.28847565451431\n",
      "              precision    recall  f1-score   support\n",
      "\n",
      "         0.0       0.79      0.84      0.81      3486\n",
      "         1.0       0.87      0.83      0.85      4688\n",
      "\n",
      "    accuracy                           0.83      8174\n",
      "   macro avg       0.83      0.83      0.83      8174\n",
      "weighted avg       0.84      0.83      0.83      8174\n",
      "\n",
      "[[2918  568]\n",
      " [ 798 3890]]\n"
     ]
    }
   ],
   "source": [
    "from sklearn.tree import DecisionTreeClassifier\n",
    "tree_new_no = DecisionTreeClassifier()\n",
    "tree_new_no.fit(X_train_scaled_no, Y_train_no)\n",
    "train_acc = tree_new_no.score(X_train_scaled_no, Y_train_no)\n",
    "y_pred = tree_new_no.predict(X_train_scaled_no)\n",
    "print(\"The Accuracy for Training Set is {}\".format(train_acc*100))\n",
    "print(classification_report(Y_train_no, y_pred))\n",
    "print(confusion_matrix(Y_train_no, y_pred))\n",
    "\n",
    "from sklearn.metrics import accuracy_score\n",
    "scaler = preprocessing.StandardScaler().fit(X_train_no)\n",
    "X_test_scaled_no = scaler.transform(X_test_no)\n",
    "y_pred_no = tree_new_no.predict(X_test_scaled_no)\n",
    "test_acc = accuracy_score(Y_test_no, y_pred_no)\n",
    "print(\"The Accuracy for Test Set is {}\".format(test_acc*100))\n",
    "print(classification_report(Y_test_no, y_pred_no))\n",
    "print(confusion_matrix(Y_test_no, y_pred_no))"
   ]
  },
  {
   "cell_type": "code",
   "execution_count": 18,
   "metadata": {},
   "outputs": [
    {
     "data": {
      "image/png": "[encoded data removed]",
      "text/plain": [
       "<Figure size 432x288 with 1 Axes>"
      ]
     },
     "metadata": {
      "needs_background": "light"
     },
     "output_type": "display_data"
    }
   ],
   "source": [
    "import sklearn.metrics as metrics\n",
    "# calculate the fpr and tpr for all thresholds of the classification\n",
    "probs = tree_new_no.predict_proba(X_train_scaled_no)\n",
    "preds = probs[:,1]\n",
    "fpr, tpr, threshold = metrics.roc_curve(Y_train_no, preds)\n",
    "roc_auc = metrics.auc(fpr, tpr)\n",
    "\n",
    "# method I: plt\n",
    "import matplotlib.pyplot as plt\n",
    "plt.title('Receiver Operating Characteristic')\n",
    "plt.plot(fpr, tpr, 'b', label = 'AUC = %0.2f' % roc_auc)\n",
    "plt.legend(loc = 'lower right')\n",
    "plt.plot([0, 1], [0, 1],'r--')\n",
    "plt.xlim([0, 1])\n",
    "plt.ylim([0, 1])\n",
    "plt.ylabel('True Positive Rate')\n",
    "plt.xlabel('False Positive Rate')\n",
    "plt.show()"
   ]
  },
  {
   "cell_type": "code",
   "execution_count": 19,
   "metadata": {},
   "outputs": [
    {
     "name": "stdout",
     "output_type": "stream",
     "text": [
      "The Accuracy for Training Set is 98.77294179339276\n",
      "[[ 8030   103]\n",
      " [  131 10806]]\n",
      "The Accuracy for Test Set is 88.40225103988256\n",
      "[[2965  521]\n",
      " [ 427 4261]]\n",
      "              precision    recall  f1-score   support\n",
      "\n",
      "         0.0       0.87      0.85      0.86      3486\n",
      "         1.0       0.89      0.91      0.90      4688\n",
      "\n",
      "    accuracy                           0.88      8174\n",
      "   macro avg       0.88      0.88      0.88      8174\n",
      "weighted avg       0.88      0.88      0.88      8174\n",
      "\n"
     ]
    }
   ],
   "source": [
    "from sklearn.ensemble import RandomForestClassifier\n",
    "clf = RandomForestClassifier(n_estimators = 100) \n",
    "clf.fit(X_train_scaled, Y_train)\n",
    "train_acc = clf.score(X_train_scaled, Y_train)\n",
    "y_pred = clf.predict(X_train_scaled)\n",
    "print(\"The Accuracy for Training Set is {}\".format(train_acc*100))\n",
    "print(confusion_matrix(Y_train, y_pred))\n",
    "\n",
    "\n",
    "from sklearn.metrics import accuracy_score\n",
    "scaler = preprocessing.StandardScaler().fit(X_train)\n",
    "X_test_scaled = scaler.transform(X_test)\n",
    "y_pred = clf.predict(X_test_scaled)\n",
    "test_acc = accuracy_score(Y_test, y_pred)\n",
    "print(\"The Accuracy for Test Set is {}\".format(test_acc*100))\n",
    "print(confusion_matrix(Y_test, y_pred))\n",
    "print(classification_report(Y_test, y_pred))"
   ]
  },
  {
   "cell_type": "code",
   "execution_count": 20,
   "metadata": {},
   "outputs": [
    {
     "name": "stdout",
     "output_type": "stream",
     "text": [
      "The Accuracy for Training Set is 89.83744100681699\n",
      "              precision    recall  f1-score   support\n",
      "\n",
      "         0.0       0.87      0.89      0.88      8133\n",
      "         1.0       0.92      0.91      0.91     10937\n",
      "\n",
      "    accuracy                           0.90     19070\n",
      "   macro avg       0.90      0.90      0.90     19070\n",
      "weighted avg       0.90      0.90      0.90     19070\n",
      "\n",
      "[[7229  904]\n",
      " [1034 9903]]\n",
      "The Accuracy for Test Set is 83.50868607780768\n",
      "              precision    recall  f1-score   support\n",
      "\n",
      "         0.0       0.80      0.81      0.81      3486\n",
      "         1.0       0.86      0.85      0.86      4688\n",
      "\n",
      "    accuracy                           0.84      8174\n",
      "   macro avg       0.83      0.83      0.83      8174\n",
      "weighted avg       0.84      0.84      0.84      8174\n",
      "\n",
      "[[2825  661]\n",
      " [ 687 4001]]\n"
     ]
    }
   ],
   "source": [
    "from sklearn.ensemble import RandomForestClassifier\n",
    "clf_no = RandomForestClassifier(n_estimators = 100) \n",
    "clf_no.fit(X_train_scaled_no, Y_train_no)\n",
    "train_acc = clf_no.score(X_train_scaled_no, Y_train_no)\n",
    "y_pred = clf_no.predict(X_train_scaled_no)\n",
    "print(\"The Accuracy for Training Set is {}\".format(train_acc*100))\n",
    "print(classification_report(Y_train_no, y_pred))\n",
    "print(confusion_matrix(Y_train_no, y_pred))\n",
    "\n",
    "from sklearn.metrics import accuracy_score\n",
    "scaler = preprocessing.StandardScaler().fit(X_train_no)\n",
    "X_test_scaled_no = scaler.transform(X_test_no)\n",
    "y_pred_no = clf_no.predict(X_test_scaled_no)\n",
    "test_acc = accuracy_score(Y_test_no, y_pred_no)\n",
    "print(\"The Accuracy for Test Set is {}\".format(test_acc*100))\n",
    "print(classification_report(Y_test_no, y_pred_no))\n",
    "print(confusion_matrix(Y_test_no, y_pred_no))"
   ]
  },
  {
   "cell_type": "code",
   "execution_count": 21,
   "metadata": {},
   "outputs": [
    {
     "data": {
      "image/png": "[encoded data removed]",
      "text/plain": [
       "<Figure size 432x288 with 1 Axes>"
      ]
     },
     "metadata": {
      "needs_background": "light"
     },
     "output_type": "display_data"
    }
   ],
   "source": [
    "import sklearn.metrics as metrics\n",
    "# calculate the fpr and tpr for all thresholds of the classification\n",
    "probs = clf_no.predict_proba(X_test_scaled_no)\n",
    "preds = probs[:,1]\n",
    "fpr, tpr, threshold = metrics.roc_curve(Y_test_no, preds)\n",
    "roc_auc = metrics.auc(fpr, tpr)\n",
    "\n",
    "# method I: plt\n",
    "import matplotlib.pyplot as plt\n",
    "plt.title('Receiver Operating Characteristic')\n",
    "plt.plot(fpr, tpr, 'b', label = 'AUC = %0.2f' % roc_auc)\n",
    "plt.legend(loc = 'lower right')\n",
    "plt.plot([0, 1], [0, 1],'r--')\n",
    "plt.xlim([0, 1])\n",
    "plt.ylim([0, 1])\n",
    "plt.ylabel('True Positive Rate')\n",
    "plt.xlabel('False Positive Rate')\n",
    "plt.show()"
   ]
  },
  {
   "cell_type": "code",
   "execution_count": 22,
   "metadata": {},
   "outputs": [
    {
     "ename": "ModuleNotFoundError",
     "evalue": "No module named 'keras'",
     "output_type": "error",
     "traceback": [
      "\u001b[0;31m---------------------------------------------------------------------------\u001b[0m",
      "\u001b[0;31mModuleNotFoundError\u001b[0m                       Traceback (most recent call last)",
      "\u001b[0;32m/var/folders/72/dnfxtvv143jfz_4_184lttrm0000gn/T/ipykernel_24501/1236299484.py\u001b[0m in \u001b[0;36m<module>\u001b[0;34m\u001b[0m\n\u001b[1;32m      1\u001b[0m \u001b[0;32mfrom\u001b[0m \u001b[0msklearn\u001b[0m\u001b[0;34m.\u001b[0m\u001b[0mpreprocessing\u001b[0m \u001b[0;32mimport\u001b[0m \u001b[0mMinMaxScaler\u001b[0m\u001b[0;34m\u001b[0m\u001b[0;34m\u001b[0m\u001b[0m\n\u001b[1;32m      2\u001b[0m \u001b[0;32mfrom\u001b[0m \u001b[0msklearn\u001b[0m\u001b[0;34m.\u001b[0m\u001b[0mmodel_selection\u001b[0m \u001b[0;32mimport\u001b[0m \u001b[0mtrain_test_split\u001b[0m\u001b[0;34m\u001b[0m\u001b[0;34m\u001b[0m\u001b[0m\n\u001b[0;32m----> 3\u001b[0;31m \u001b[0;32mfrom\u001b[0m \u001b[0mkeras\u001b[0m\u001b[0;34m.\u001b[0m\u001b[0mmodels\u001b[0m \u001b[0;32mimport\u001b[0m \u001b[0mSequential\u001b[0m\u001b[0;34m\u001b[0m\u001b[0;34m\u001b[0m\u001b[0m\n\u001b[0m\u001b[1;32m      4\u001b[0m \u001b[0;32mfrom\u001b[0m \u001b[0mkeras\u001b[0m\u001b[0;34m.\u001b[0m\u001b[0mlayers\u001b[0m \u001b[0;32mimport\u001b[0m \u001b[0mDense\u001b[0m\u001b[0;34m,\u001b[0m \u001b[0mLSTM\u001b[0m\u001b[0;34m,\u001b[0m \u001b[0mDropout\u001b[0m\u001b[0;34m\u001b[0m\u001b[0;34m\u001b[0m\u001b[0m\n\u001b[1;32m      5\u001b[0m \u001b[0;32mfrom\u001b[0m \u001b[0mkeras\u001b[0m\u001b[0;34m.\u001b[0m\u001b[0mcallbacks\u001b[0m \u001b[0;32mimport\u001b[0m \u001b[0mEarlyStopping\u001b[0m\u001b[0;34m\u001b[0m\u001b[0;34m\u001b[0m\u001b[0m\n",
      "\u001b[0;31mModuleNotFoundError\u001b[0m: No module named 'keras'"
     ]
    }
   ],
   "source": [
    "from sklearn.preprocessing import MinMaxScaler\n",
    "from sklearn.model_selection import train_test_split\n",
    "from keras.models import Sequential\n",
    "from keras.layers import Dense, LSTM, Dropout\n",
    "from keras.callbacks import EarlyStopping\n",
    "from sklearn.preprocessing import MinMaxScaler\n",
    "from sklearn.metrics import mean_absolute_percentage_error, mean_squared_error\n",
    "def predict_with_LSTM(frame, y_cols, x_cols, epochs, ratio, title):\n",
    "    y = frame.filter(y_cols)\n",
    "    x = frame.filter(x_cols)\n",
    "    dataset = y.values\n",
    "    input_dataset = x.values\n",
    "    factors = x.shape[1]\n",
    "    \n",
    "    # Get the number of rows to train the model on\n",
    "    training_data_len = int(np.ceil( len(dataset) * ratio ))\n",
    "    \n",
    "    # Scale the data\n",
    "    scaler = MinMaxScaler(feature_range=(0,1))\n",
    "    scaled_input_dataset = scaler.fit_transform(input_dataset)\n",
    "    scaled_data = scaler.fit_transform(dataset)\n",
    "    \n",
    "    # Create the training data set \n",
    "    # Create the scaled training data set\n",
    "    X_train, X_test, Y_train, Y_test = train_test_split(x, y, test_size = ratio)\n",
    "    # Split the data into x_train and y_train data sets\n",
    "\n",
    "    # Convert the x_train and y_train to numpy arrays \n",
    "    x_train, y_train = np.array(X_train), np.array(Y_train)\n",
    "\n",
    "    # Reshape the data\n",
    "    x_train = np.reshape(x_train, (x_train.shape[0], x_train.shape[1]*factors, 1))\n",
    "    \n",
    "    \n",
    "        ##########\n",
    "    # Create the testing data set\n",
    "    \n",
    "    # Create the data sets x_test and y_test\n",
    "    # Convert the data to a numpy array\n",
    "    x_test = np.array(X_test)\n",
    "\n",
    "\n",
    "    # Reshape the data\n",
    "    x_test = np.reshape(x_test, (x_test.shape[0], x_test.shape[1]*factors, 1 ))\n",
    "\n",
    "    #get y_test\n",
    "    y_test = Y_test\n",
    "    \n",
    "    \n",
    "    # Build the LSTM model\n",
    "    model = Sequential()\n",
    "    model.add(LSTM(128, return_sequences=True, input_shape= (x_train.shape[1], 1)))\n",
    "    model.add(LSTM(64, return_sequences=False))\n",
    "    model.add(Dense(25))\n",
    "    model.add(Dense(1))\n",
    "\n",
    "    # Compile the model\n",
    "    model.compile(optimizer='adam', loss='mean_squared_error', metrics=['mean_squared_error'])\n",
    "\n",
    "    #early stop\n",
    "    early_stop = EarlyStopping(monitor='val_mean_squared_error', patience=75, mode = 'min', restore_best_weights=True)\n",
    "    \n",
    "    #batch_size\n",
    "    BATCH_SIZE = 4\n",
    "    \n",
    "    history = model.fit(x_train, y_train, batch_size=BATCH_SIZE, epochs=epochs,\n",
    "                        validation_split=0.1, validation_batch_size=BATCH_SIZE, shuffle = False, callbacks=[early_stop])\n",
    "              \n",
    "              \n",
    "              \n",
    "              \n",
    "    #, validation_data=(x_test, y_test))\n",
    "    # visualizing losses and accuracy\n",
    "    \n",
    "    print(history.history.keys())\n",
    "    train_loss = history.history['loss']\n",
    "    val_loss   = history.history['val_loss']\n",
    "    train_acc = history.history['mean_squared_error']\n",
    "    val_acc = history.history['val_mean_squared_error']\n",
    "    xc         = range(epochs)\n",
    "    plt.figure(figsize=(16,6))\n",
    "#     plt.plot(xc, train_loss)\n",
    "#     plt.show()\n",
    "#     plt.figure(figsize=(16,6))\n",
    "#     plt.plot(xc, val_loss)\n",
    "#     plt.show()\n",
    "    #plt.show()\n",
    "    plt.plot(train_acc)\n",
    "    plt.plot(val_acc)\n",
    "    plt.title('model accuracy')\n",
    "    plt.ylabel('accuracy')\n",
    "    plt.xlabel('epoch')\n",
    "    plt.legend(['train', 'val'], loc='upper left')\n",
    "    plt.show()\n",
    "    \n",
    "    \n",
    "\n",
    "    # Get the models predicted price values \n",
    "    predictions = model.predict(x_test)\n",
    "    predictions = scaler.inverse_transform(predictions)\n",
    "    print(\"predictions shape:\", predictions.shape)\n",
    "    # Get the root mean squared error (RMSE)\n",
    "    rmse = np.sqrt(np.mean(((predictions - y_test) ** 2)))\n",
    "    mape = mean_absolute_percentage_error(y_test, predictions)\n",
    "\n",
    "    \n",
    "    # Plot the data\n",
    "    train = frame[:training_data_len]\n",
    "    print(\"train shape:\", train.shape)\n",
    "    valid = frame[training_data_len:]\n",
    "    print(\"valid shape:\", valid.shape)\n",
    "    valid['Predictions'] = predictions\n",
    "    valid\n",
    "    #Visualize the data\n",
    "    plt.figure(figsize=(16,6))\n",
    "    plt.title(title)\n",
    "    plt.xlabel('Date', fontsize=18)\n",
    "    plt.ylabel('Close Price ' + y_cols[0], fontsize=18)\n",
    "    #plt.plot(train['CHF'])\n",
    "    plt.plot(valid[[y_cols[0], 'Predictions']])\n",
    "    plt.legend(['Val', 'Predictions'], loc='lower right') #'Train'\n",
    "    plt.show()\n",
    "    print(\"RMSE: \", rmse)\n",
    "    print(\"MAPE: \", mape)\n",
    "    return rmse, mape\n"
   ]
  },
  {
   "cell_type": "code",
   "execution_count": 136,
   "metadata": {},
   "outputs": [
    {
     "data": {
      "text/html": [
       "<div>\n",
       "<style scoped>\n",
       "    .dataframe tbody tr th:only-of-type {\n",
       "        vertical-align: middle;\n",
       "    }\n",
       "\n",
       "    .dataframe tbody tr th {\n",
       "        vertical-align: top;\n",
       "    }\n",
       "\n",
       "    .dataframe thead th {\n",
       "        text-align: right;\n",
       "    }\n",
       "</style>\n",
       "<table border=\"1\" class=\"dataframe\">\n",
       "  <thead>\n",
       "    <tr style=\"text-align: right;\">\n",
       "      <th></th>\n",
       "      <th>Suburb</th>\n",
       "      <th>Rooms</th>\n",
       "      <th>Type</th>\n",
       "      <th>Method</th>\n",
       "      <th>SellerG</th>\n",
       "      <th>Distance</th>\n",
       "      <th>Bathroom</th>\n",
       "      <th>Car</th>\n",
       "      <th>Regionname</th>\n",
       "      <th>Propertycount</th>\n",
       "      <th>Quarter</th>\n",
       "    </tr>\n",
       "  </thead>\n",
       "  <tbody>\n",
       "    <tr>\n",
       "      <th>1</th>\n",
       "      <td>1</td>\n",
       "      <td>2</td>\n",
       "      <td>1</td>\n",
       "      <td>2</td>\n",
       "      <td>2</td>\n",
       "      <td>2.50</td>\n",
       "      <td>1.00</td>\n",
       "      <td>1.00</td>\n",
       "      <td>3</td>\n",
       "      <td>4019.00</td>\n",
       "      <td>4</td>\n",
       "    </tr>\n",
       "    <tr>\n",
       "      <th>2</th>\n",
       "      <td>1</td>\n",
       "      <td>2</td>\n",
       "      <td>1</td>\n",
       "      <td>2</td>\n",
       "      <td>2</td>\n",
       "      <td>2.50</td>\n",
       "      <td>1.00</td>\n",
       "      <td>0.00</td>\n",
       "      <td>3</td>\n",
       "      <td>4019.00</td>\n",
       "      <td>1</td>\n",
       "    </tr>\n",
       "    <tr>\n",
       "      <th>4</th>\n",
       "      <td>1</td>\n",
       "      <td>3</td>\n",
       "      <td>1</td>\n",
       "      <td>4</td>\n",
       "      <td>2</td>\n",
       "      <td>2.50</td>\n",
       "      <td>2.00</td>\n",
       "      <td>0.00</td>\n",
       "      <td>3</td>\n",
       "      <td>4019.00</td>\n",
       "      <td>5</td>\n",
       "    </tr>\n",
       "    <tr>\n",
       "      <th>5</th>\n",
       "      <td>1</td>\n",
       "      <td>3</td>\n",
       "      <td>1</td>\n",
       "      <td>1</td>\n",
       "      <td>2</td>\n",
       "      <td>2.50</td>\n",
       "      <td>2.00</td>\n",
       "      <td>1.00</td>\n",
       "      <td>3</td>\n",
       "      <td>4019.00</td>\n",
       "      <td>5</td>\n",
       "    </tr>\n",
       "    <tr>\n",
       "      <th>6</th>\n",
       "      <td>1</td>\n",
       "      <td>4</td>\n",
       "      <td>1</td>\n",
       "      <td>5</td>\n",
       "      <td>9</td>\n",
       "      <td>2.50</td>\n",
       "      <td>1.00</td>\n",
       "      <td>2.00</td>\n",
       "      <td>3</td>\n",
       "      <td>4019.00</td>\n",
       "      <td>2</td>\n",
       "    </tr>\n",
       "    <tr>\n",
       "      <th>...</th>\n",
       "      <td>...</td>\n",
       "      <td>...</td>\n",
       "      <td>...</td>\n",
       "      <td>...</td>\n",
       "      <td>...</td>\n",
       "      <td>...</td>\n",
       "      <td>...</td>\n",
       "      <td>...</td>\n",
       "      <td>...</td>\n",
       "      <td>...</td>\n",
       "      <td>...</td>\n",
       "    </tr>\n",
       "    <tr>\n",
       "      <th>34852</th>\n",
       "      <td>342</td>\n",
       "      <td>4</td>\n",
       "      <td>1</td>\n",
       "      <td>1</td>\n",
       "      <td>8</td>\n",
       "      <td>6.30</td>\n",
       "      <td>1.00</td>\n",
       "      <td>3.00</td>\n",
       "      <td>7</td>\n",
       "      <td>6543.00</td>\n",
       "      <td>9</td>\n",
       "    </tr>\n",
       "    <tr>\n",
       "      <th>34853</th>\n",
       "      <td>342</td>\n",
       "      <td>2</td>\n",
       "      <td>1</td>\n",
       "      <td>4</td>\n",
       "      <td>8</td>\n",
       "      <td>6.30</td>\n",
       "      <td>2.00</td>\n",
       "      <td>1.00</td>\n",
       "      <td>7</td>\n",
       "      <td>6543.00</td>\n",
       "      <td>9</td>\n",
       "    </tr>\n",
       "    <tr>\n",
       "      <th>34854</th>\n",
       "      <td>342</td>\n",
       "      <td>2</td>\n",
       "      <td>2</td>\n",
       "      <td>2</td>\n",
       "      <td>8</td>\n",
       "      <td>6.30</td>\n",
       "      <td>1.00</td>\n",
       "      <td>2.00</td>\n",
       "      <td>7</td>\n",
       "      <td>6543.00</td>\n",
       "      <td>9</td>\n",
       "    </tr>\n",
       "    <tr>\n",
       "      <th>34855</th>\n",
       "      <td>342</td>\n",
       "      <td>3</td>\n",
       "      <td>1</td>\n",
       "      <td>4</td>\n",
       "      <td>12</td>\n",
       "      <td>6.30</td>\n",
       "      <td>1.00</td>\n",
       "      <td>1.72</td>\n",
       "      <td>7</td>\n",
       "      <td>6543.00</td>\n",
       "      <td>9</td>\n",
       "    </tr>\n",
       "    <tr>\n",
       "      <th>34856</th>\n",
       "      <td>342</td>\n",
       "      <td>2</td>\n",
       "      <td>1</td>\n",
       "      <td>1</td>\n",
       "      <td>8</td>\n",
       "      <td>6.30</td>\n",
       "      <td>1.00</td>\n",
       "      <td>0.00</td>\n",
       "      <td>7</td>\n",
       "      <td>6543.00</td>\n",
       "      <td>9</td>\n",
       "    </tr>\n",
       "  </tbody>\n",
       "</table>\n",
       "<p>27244 rows × 11 columns</p>\n",
       "</div>"
      ],
      "text/plain": [
       "       Suburb  Rooms  Type  Method  SellerG  Distance  Bathroom  Car  \\\n",
       "1           1      2     1       2        2      2.50      1.00 1.00   \n",
       "2           1      2     1       2        2      2.50      1.00 0.00   \n",
       "4           1      3     1       4        2      2.50      2.00 0.00   \n",
       "5           1      3     1       1        2      2.50      2.00 1.00   \n",
       "6           1      4     1       5        9      2.50      1.00 2.00   \n",
       "...       ...    ...   ...     ...      ...       ...       ...  ...   \n",
       "34852     342      4     1       1        8      6.30      1.00 3.00   \n",
       "34853     342      2     1       4        8      6.30      2.00 1.00   \n",
       "34854     342      2     2       2        8      6.30      1.00 2.00   \n",
       "34855     342      3     1       4       12      6.30      1.00 1.72   \n",
       "34856     342      2     1       1        8      6.30      1.00 0.00   \n",
       "\n",
       "       Regionname  Propertycount  Quarter  \n",
       "1               3        4019.00        4  \n",
       "2               3        4019.00        1  \n",
       "4               3        4019.00        5  \n",
       "5               3        4019.00        5  \n",
       "6               3        4019.00        2  \n",
       "...           ...            ...      ...  \n",
       "34852           7        6543.00        9  \n",
       "34853           7        6543.00        9  \n",
       "34854           7        6543.00        9  \n",
       "34855           7        6543.00        9  \n",
       "34856           7        6543.00        9  \n",
       "\n",
       "[27244 rows x 11 columns]"
      ]
     },
     "execution_count": 136,
     "metadata": {},
     "output_type": "execute_result"
    }
   ],
   "source": [
    "X"
   ]
  }
 ],
 "metadata": {
  "interpreter": {
   "hash": "e5e6a6196bee2dbbb69994228aa465d7f3f080897267787a09673f721839927d"
  },
  "kernelspec": {
   "display_name": "3.9.6-venv",
   "language": "python",
   "name": "3.9.6-venv"
  },
  "language_info": {
   "codemirror_mode": {
    "name": "ipython",
    "version": 3
   },
   "file_extension": ".py",
   "mimetype": "text/x-python",
   "name": "python",
   "nbconvert_exporter": "python",
   "pygments_lexer": "ipython3",
   "version": "3.8.13"
  },
  "orig_nbformat": 4
 },
 "nbformat": 4,
 "nbformat_minor": 2
}
